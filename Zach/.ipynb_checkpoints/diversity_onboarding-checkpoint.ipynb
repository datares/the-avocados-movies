{
 "cells": [
  {
   "cell_type": "code",
   "execution_count": 27,
   "metadata": {},
   "outputs": [],
   "source": [
    "import pandas as pd\n",
    "import matplotlib.pyplot as plt\n",
    "from collections import Counter\n",
    "\n",
    "#Data onboarding\n",
    "platform_avail = pd.read_csv(\"../resources/MoviesOnStreamingPlatforms_updated.csv\")\n",
    "movies = pd.read_csv(\"../resources/movies.csv\", encoding = \"ISO-8859-1\", dtype = {\"country\": \"string\"})\n",
    "imdb = pd.read_csv(\"../resources/IMDb movies.csv\")\n",
    "\n",
    "platform_movies = list(platform_avail[\"Title\"]) #p\n",
    "movies_movies = list(movies[\"name\"]) #m\n",
    "imdb_movies = list(imdb[\"title\"])#i\n",
    "\n",
    "# for row_i in range(len(platform_avail)):\n",
    "#     platform_avail = platform_avail.rename(index = {row_i: platform_movies[row_i]})\n",
    "# for row_i in range(len(movies)):\n",
    "#     movies = movies.rename(index = {row_i: movies_movies[row_i]})\n",
    "# for row_i in range(len(imdb_movies)):\n",
    "#     imdb = imdb.rename(index = {row_i: imdb_movies[row_i]})"
   ]
  },
  {
   "cell_type": "code",
   "execution_count": 28,
   "metadata": {},
   "outputs": [
    {
     "data": {
      "text/html": [
       "<div>\n",
       "<style scoped>\n",
       "    .dataframe tbody tr th:only-of-type {\n",
       "        vertical-align: middle;\n",
       "    }\n",
       "\n",
       "    .dataframe tbody tr th {\n",
       "        vertical-align: top;\n",
       "    }\n",
       "\n",
       "    .dataframe thead th {\n",
       "        text-align: right;\n",
       "    }\n",
       "</style>\n",
       "<table border=\"1\" class=\"dataframe\">\n",
       "  <thead>\n",
       "    <tr style=\"text-align: right;\">\n",
       "      <th></th>\n",
       "      <th>Unnamed: 0</th>\n",
       "      <th>ID</th>\n",
       "      <th>Title</th>\n",
       "      <th>Year</th>\n",
       "      <th>Age</th>\n",
       "      <th>IMDb</th>\n",
       "      <th>Rotten Tomatoes</th>\n",
       "      <th>Netflix</th>\n",
       "      <th>Hulu</th>\n",
       "      <th>Prime Video</th>\n",
       "      <th>Disney+</th>\n",
       "      <th>Type</th>\n",
       "      <th>Directors</th>\n",
       "      <th>Genres</th>\n",
       "      <th>Country</th>\n",
       "      <th>Language</th>\n",
       "      <th>Runtime</th>\n",
       "    </tr>\n",
       "  </thead>\n",
       "  <tbody>\n",
       "    <tr>\n",
       "      <th>0</th>\n",
       "      <td>0</td>\n",
       "      <td>1</td>\n",
       "      <td>Inception</td>\n",
       "      <td>2010</td>\n",
       "      <td>13+</td>\n",
       "      <td>8.8</td>\n",
       "      <td>87%</td>\n",
       "      <td>1</td>\n",
       "      <td>0</td>\n",
       "      <td>0</td>\n",
       "      <td>0</td>\n",
       "      <td>0</td>\n",
       "      <td>Christopher Nolan</td>\n",
       "      <td>Action,Adventure,Sci-Fi,Thriller</td>\n",
       "      <td>United States,United Kingdom</td>\n",
       "      <td>English,Japanese,French</td>\n",
       "      <td>148.0</td>\n",
       "    </tr>\n",
       "    <tr>\n",
       "      <th>1</th>\n",
       "      <td>1</td>\n",
       "      <td>2</td>\n",
       "      <td>The Matrix</td>\n",
       "      <td>1999</td>\n",
       "      <td>18+</td>\n",
       "      <td>8.7</td>\n",
       "      <td>87%</td>\n",
       "      <td>1</td>\n",
       "      <td>0</td>\n",
       "      <td>0</td>\n",
       "      <td>0</td>\n",
       "      <td>0</td>\n",
       "      <td>Lana Wachowski,Lilly Wachowski</td>\n",
       "      <td>Action,Sci-Fi</td>\n",
       "      <td>United States</td>\n",
       "      <td>English</td>\n",
       "      <td>136.0</td>\n",
       "    </tr>\n",
       "    <tr>\n",
       "      <th>2</th>\n",
       "      <td>2</td>\n",
       "      <td>3</td>\n",
       "      <td>Avengers: Infinity War</td>\n",
       "      <td>2018</td>\n",
       "      <td>13+</td>\n",
       "      <td>8.5</td>\n",
       "      <td>84%</td>\n",
       "      <td>1</td>\n",
       "      <td>0</td>\n",
       "      <td>0</td>\n",
       "      <td>0</td>\n",
       "      <td>0</td>\n",
       "      <td>Anthony Russo,Joe Russo</td>\n",
       "      <td>Action,Adventure,Sci-Fi</td>\n",
       "      <td>United States</td>\n",
       "      <td>English</td>\n",
       "      <td>149.0</td>\n",
       "    </tr>\n",
       "    <tr>\n",
       "      <th>3</th>\n",
       "      <td>3</td>\n",
       "      <td>4</td>\n",
       "      <td>Back to the Future</td>\n",
       "      <td>1985</td>\n",
       "      <td>7+</td>\n",
       "      <td>8.5</td>\n",
       "      <td>96%</td>\n",
       "      <td>1</td>\n",
       "      <td>0</td>\n",
       "      <td>0</td>\n",
       "      <td>0</td>\n",
       "      <td>0</td>\n",
       "      <td>Robert Zemeckis</td>\n",
       "      <td>Adventure,Comedy,Sci-Fi</td>\n",
       "      <td>United States</td>\n",
       "      <td>English</td>\n",
       "      <td>116.0</td>\n",
       "    </tr>\n",
       "    <tr>\n",
       "      <th>4</th>\n",
       "      <td>4</td>\n",
       "      <td>5</td>\n",
       "      <td>The Good, the Bad and the Ugly</td>\n",
       "      <td>1966</td>\n",
       "      <td>18+</td>\n",
       "      <td>8.8</td>\n",
       "      <td>97%</td>\n",
       "      <td>1</td>\n",
       "      <td>0</td>\n",
       "      <td>1</td>\n",
       "      <td>0</td>\n",
       "      <td>0</td>\n",
       "      <td>Sergio Leone</td>\n",
       "      <td>Western</td>\n",
       "      <td>Italy,Spain,West Germany</td>\n",
       "      <td>Italian</td>\n",
       "      <td>161.0</td>\n",
       "    </tr>\n",
       "  </tbody>\n",
       "</table>\n",
       "</div>"
      ],
      "text/plain": [
       "   Unnamed: 0  ID                           Title  Year  Age  IMDb  \\\n",
       "0           0   1                       Inception  2010  13+   8.8   \n",
       "1           1   2                      The Matrix  1999  18+   8.7   \n",
       "2           2   3          Avengers: Infinity War  2018  13+   8.5   \n",
       "3           3   4              Back to the Future  1985   7+   8.5   \n",
       "4           4   5  The Good, the Bad and the Ugly  1966  18+   8.8   \n",
       "\n",
       "  Rotten Tomatoes  Netflix  Hulu  Prime Video  Disney+  Type  \\\n",
       "0             87%        1     0            0        0     0   \n",
       "1             87%        1     0            0        0     0   \n",
       "2             84%        1     0            0        0     0   \n",
       "3             96%        1     0            0        0     0   \n",
       "4             97%        1     0            1        0     0   \n",
       "\n",
       "                        Directors                            Genres  \\\n",
       "0               Christopher Nolan  Action,Adventure,Sci-Fi,Thriller   \n",
       "1  Lana Wachowski,Lilly Wachowski                     Action,Sci-Fi   \n",
       "2         Anthony Russo,Joe Russo           Action,Adventure,Sci-Fi   \n",
       "3                 Robert Zemeckis           Adventure,Comedy,Sci-Fi   \n",
       "4                    Sergio Leone                           Western   \n",
       "\n",
       "                        Country                 Language  Runtime  \n",
       "0  United States,United Kingdom  English,Japanese,French    148.0  \n",
       "1                 United States                  English    136.0  \n",
       "2                 United States                  English    149.0  \n",
       "3                 United States                  English    116.0  \n",
       "4      Italy,Spain,West Germany                  Italian    161.0  "
      ]
     },
     "execution_count": 28,
     "metadata": {},
     "output_type": "execute_result"
    }
   ],
   "source": [
    "netflix = list(platform_avail[\"Netflix\"])\n",
    "hulu = list(platform_avail[\"Hulu\"])\n",
    "prime = list(platform_avail[\"Prime Video\"])\n",
    "disney = list(platform_avail[\"Disney+\"])\n",
    "platform_avail.head()"
   ]
  },
  {
   "cell_type": "code",
   "execution_count": 29,
   "metadata": {},
   "outputs": [
    {
     "name": "stdout",
     "output_type": "stream",
     "text": [
      "0.9058672269385101\n",
      "0.9175696679950792\n",
      "0.9655710259008249\n",
      "0.9778604990993034\n"
     ]
    }
   ],
   "source": [
    "#DIVERSITY RANKING BY YEARS\n",
    "\n",
    "def simpson_index(year_count):\n",
    "    total_count = 0\n",
    "    for key in year_count:\n",
    "        total_count += year_count[key]\n",
    "    denom = total_count * (total_count - 1)\n",
    "    \n",
    "    numer = 0\n",
    "    for key in year_count:\n",
    "        numer = numer + (year_count[key] * (year_count[key] - 1))\n",
    "    return 1 - (numer/denom)\n",
    "\n",
    "def acquire_years(df, avail):\n",
    "    years = []\n",
    "    for row_i in range(len(df)):\n",
    "        if avail[row_i]:\n",
    "            years.append(df.iloc[row_i, 3])\n",
    "    return years\n",
    "\n",
    "netflix_years = acquire_years(platform_avail, netflix)\n",
    "hulu_years = acquire_years(platform_avail, hulu)\n",
    "prime_years = acquire_years(platform_avail, prime)\n",
    "disney_years = acquire_years(platform_avail, disney)\n",
    "\n",
    "#DIVERSITY FOR YEARS -- Disney, Prime, Hulu, Netflix\n",
    "print(simpson_index(Counter(netflix_years)))\n",
    "print(simpson_index(Counter(hulu_years)))\n",
    "print(simpson_index(Counter(prime_years)))\n",
    "print(simpson_index(Counter(disney_years)))\n",
    "# hulu_years = []\n",
    "# for row_i in range(len())"
   ]
  },
  {
   "cell_type": "code",
   "execution_count": 30,
   "metadata": {
    "scrolled": true
   },
   "outputs": [
    {
     "data": {
      "text/plain": [
       "(array([  11.,    0.,    4.,   11.,   28.,   52.,   81.,  159.,  530.,\n",
       "        2684.]),\n",
       " array([1942. , 1949.8, 1957.6, 1965.4, 1973.2, 1981. , 1988.8, 1996.6,\n",
       "        2004.4, 2012.2, 2020. ]),\n",
       " <BarContainer object of 10 artists>)"
      ]
     },
     "execution_count": 30,
     "metadata": {},
     "output_type": "execute_result"
    },
    {
     "data": {
      "image/png": "[encoded data removed]",
      "text/plain": [
       "<Figure size 432x288 with 1 Axes>"
      ]
     },
     "metadata": {
      "needs_background": "light"
     },
     "output_type": "display_data"
    }
   ],
   "source": [
    "plt.hist(netflix_years)"
   ]
  },
  {
   "cell_type": "code",
   "execution_count": 31,
   "metadata": {
    "scrolled": true
   },
   "outputs": [
    {
     "data": {
      "text/plain": [
       "(array([  1.,   0.,   4.,   6.,   5.,  10.,  26.,  46., 129., 676.]),\n",
       " array([1923. , 1932.7, 1942.4, 1952.1, 1961.8, 1971.5, 1981.2, 1990.9,\n",
       "        2000.6, 2010.3, 2020. ]),\n",
       " <BarContainer object of 10 artists>)"
      ]
     },
     "execution_count": 31,
     "metadata": {},
     "output_type": "execute_result"
    },
    {
     "data": {
      "image/png": "[encoded data removed]",
      "text/plain": [
       "<Figure size 432x288 with 1 Axes>"
      ]
     },
     "metadata": {
      "needs_background": "light"
     },
     "output_type": "display_data"
    }
   ],
   "source": [
    "plt.hist(hulu_years)"
   ]
  },
  {
   "cell_type": "code",
   "execution_count": 32,
   "metadata": {
    "scrolled": true
   },
   "outputs": [
    {
     "data": {
      "text/plain": [
       "(array([4.000e+00, 3.500e+01, 2.820e+02, 4.470e+02, 3.650e+02, 5.160e+02,\n",
       "        8.080e+02, 8.680e+02, 2.213e+03, 6.816e+03]),\n",
       " array([1902. , 1913.8, 1925.6, 1937.4, 1949.2, 1961. , 1972.8, 1984.6,\n",
       "        1996.4, 2008.2, 2020. ]),\n",
       " <BarContainer object of 10 artists>)"
      ]
     },
     "execution_count": 32,
     "metadata": {},
     "output_type": "execute_result"
    },
    {
     "data": {
      "image/png": "[encoded data removed]",
      "text/plain": [
       "<Figure size 432x288 with 1 Axes>"
      ]
     },
     "metadata": {
      "needs_background": "light"
     },
     "output_type": "display_data"
    }
   ],
   "source": [
    "plt.hist(prime_years)"
   ]
  },
  {
   "cell_type": "code",
   "execution_count": 33,
   "metadata": {
    "scrolled": true
   },
   "outputs": [
    {
     "data": {
      "text/plain": [
       "(array([  4.,   4.,  10.,  23.,  23.,  34.,  35., 101., 175., 155.]),\n",
       " array([1921. , 1930.9, 1940.8, 1950.7, 1960.6, 1970.5, 1980.4, 1990.3,\n",
       "        2000.2, 2010.1, 2020. ]),\n",
       " <BarContainer object of 10 artists>)"
      ]
     },
     "execution_count": 33,
     "metadata": {},
     "output_type": "execute_result"
    },
    {
     "data": {
      "image/png": "[encoded data removed]",
      "text/plain": [
       "<Figure size 432x288 with 1 Axes>"
      ]
     },
     "metadata": {
      "needs_background": "light"
     },
     "output_type": "display_data"
    }
   ],
   "source": [
    "plt.hist(disney_years)"
   ]
  },
  {
   "cell_type": "code",
   "execution_count": 34,
   "metadata": {},
   "outputs": [],
   "source": [
    "# inters_p_m = set(platform_movies) & set(movies_movies) #Movies common to p and m\n",
    "# inters_p_i = set(platform_movies) & set(imdb_movies) #Movies common to p and i\n",
    "# inters_comm = list(set(inters_p_m) & set(inters_p_i)) #Movies common to intersection\n",
    "\n",
    "# only_p_i = set()\n",
    "# for e in inters_p_i:\n",
    "#     if e not in inters_comm:\n",
    "#         only_p_i.add(e)\n",
    "        \n",
    "#Use inters_p_m & only_p_i to avoid duplicates"
   ]
  },
  {
   "cell_type": "code",
   "execution_count": 39,
   "metadata": {},
   "outputs": [
    {
     "name": "stdout",
     "output_type": "stream",
     "text": [
      "0.8204047109109999\n",
      "0.7141965701179112\n",
      "0.7072553300228102\n",
      "0.40569195094547106\n"
     ]
    }
   ],
   "source": [
    "#DIVERSITY RANKING BY COUNTRY\n",
    "def acquire_countries(df, avail):\n",
    "    countries = []\n",
    "    for row_i in range(len(df)):\n",
    "        if avail[row_i]:\n",
    "            if isinstance(df.iloc[row_i, -3], float):\n",
    "                continue\n",
    "            for country in df.iloc[row_i, -3].split(\",\"):\n",
    "                countries.append(country)\n",
    "    return countries\n",
    "\n",
    "#Best to worst, Netflix, Hulu, Prime, Disney\n",
    "print(simpson_index(Counter(acquire_countries(platform_avail, netflix))))\n",
    "print(simpson_index(Counter(acquire_countries(platform_avail, hulu))))\n",
    "print(simpson_index(Counter(acquire_countries(platform_avail, prime))))\n",
    "print(simpson_index(Counter(acquire_countries(platform_avail, disney))))\n",
    "\n"
   ]
  },
  {
   "cell_type": "code",
   "execution_count": 42,
   "metadata": {},
   "outputs": [
    {
     "name": "stdout",
     "output_type": "stream",
     "text": [
      "0.9099003333993214\n",
      "0.9179960689474018\n",
      "0.9151658641790695\n",
      "0.8967356129721197\n"
     ]
    }
   ],
   "source": [
    "#DIVERSITY RANKING BY GENRE\n",
    "def acquire_genres(df, avail):\n",
    "    genres = []\n",
    "    for row_i in range(len(df)):\n",
    "        if avail[row_i]:\n",
    "            if isinstance(df.iloc[row_i, -4], float):\n",
    "                continue\n",
    "            for genre in df.iloc[row_i, -4].split(\",\"):\n",
    "                genres.append(genre)\n",
    "    return genres\n",
    "\n",
    "#Ranking: Hulu, Prime, Netflix, Disney\n",
    "print(simpson_index(Counter(acquire_genres(platform_avail, netflix))))\n",
    "print(simpson_index(Counter(acquire_genres(platform_avail, hulu))))\n",
    "print(simpson_index(Counter(acquire_genres(platform_avail, prime))))\n",
    "print(simpson_index(Counter(acquire_genres(platform_avail, disney))))"
   ]
  },
  {
   "cell_type": "code",
   "execution_count": 43,
   "metadata": {},
   "outputs": [
    {
     "name": "stdout",
     "output_type": "stream",
     "text": [
      "0.7437782324913043\n",
      "0.579391051295893\n",
      "0.5188551099143195\n",
      "0.3881300065608291\n"
     ]
    }
   ],
   "source": [
    "#DIVERSITY RANKING BY LANGUAGE\n",
    "def acquire_languages(df, avail):\n",
    "    languages = []\n",
    "    for row_i in range(len(df)):\n",
    "        if avail[row_i]:\n",
    "            if isinstance(df.iloc[row_i, -2], float):\n",
    "                continue\n",
    "            for language in df.iloc[row_i, -2].split(\",\"):\n",
    "                languages.append(language)\n",
    "    return languages\n",
    "\n",
    "#Ranking: Netflix, Hulu, Prime, Disney\n",
    "print(simpson_index(Counter(acquire_languages(platform_avail, netflix))))\n",
    "print(simpson_index(Counter(acquire_languages(platform_avail, hulu))))\n",
    "print(simpson_index(Counter(acquire_languages(platform_avail, prime))))\n",
    "print(simpson_index(Counter(acquire_languages(platform_avail, disney))))"
   ]
  },
  {
   "cell_type": "code",
   "execution_count": 45,
   "metadata": {},
   "outputs": [
    {
     "name": "stdout",
     "output_type": "stream",
     "text": [
      "0.654028558710154\n",
      "0.7415341323452498\n",
      "0.5876615424459803\n",
      "0.6412582038975599\n"
     ]
    }
   ],
   "source": [
    "#DIVERSITY RANKING BY AGE\n",
    "def acquire_ages(df, avail):\n",
    "    ages = []\n",
    "    for row_i in range(len(df)):\n",
    "        if avail[row_i]:\n",
    "            ages.append(df.iloc[row_i, 4])\n",
    "    return ages\n",
    "\n",
    "#Ranking: Hulu, Netflix, Disney, Prime\n",
    "print(simpson_index(Counter(acquire_ages(platform_avail, netflix))))\n",
    "print(simpson_index(Counter(acquire_ages(platform_avail, hulu))))\n",
    "print(simpson_index(Counter(acquire_ages(platform_avail, prime))))\n",
    "print(simpson_index(Counter(acquire_ages(platform_avail, disney))))"
   ]
  },
  {
   "cell_type": "code",
   "execution_count": 48,
   "metadata": {},
   "outputs": [
    {
     "name": "stdout",
     "output_type": "stream",
     "text": [
      "0.9885788837288596\n",
      "0.9800639897066443\n",
      "0.982619946002909\n",
      "0.9857337213257247\n"
     ]
    }
   ],
   "source": [
    "#DIVERSITY RANKING BY RUNTIME\n",
    "def acquire_runtimes(df, avail):\n",
    "    runtimes = []\n",
    "    for row_i in range(len(df)):\n",
    "        if avail[row_i]:\n",
    "            runtimes.append(df.iloc[row_i, -1])\n",
    "    return runtimes\n",
    "\n",
    "#Ranking: Netflix, Disney, Prime, Hulu\n",
    "print(simpson_index(Counter(acquire_runtimes(platform_avail, netflix))))\n",
    "print(simpson_index(Counter(acquire_runtimes(platform_avail, hulu))))\n",
    "print(simpson_index(Counter(acquire_runtimes(platform_avail, prime))))\n",
    "print(simpson_index(Counter(acquire_runtimes(platform_avail, disney))))"
   ]
  },
  {
   "cell_type": "code",
   "execution_count": 34,
   "metadata": {},
   "outputs": [
    {
     "data": {
      "text/html": [
       "<div>\n",
       "<style scoped>\n",
       "    .dataframe tbody tr th:only-of-type {\n",
       "        vertical-align: middle;\n",
       "    }\n",
       "\n",
       "    .dataframe tbody tr th {\n",
       "        vertical-align: top;\n",
       "    }\n",
       "\n",
       "    .dataframe thead th {\n",
       "        text-align: right;\n",
       "    }\n",
       "</style>\n",
       "<table border=\"1\" class=\"dataframe\">\n",
       "  <thead>\n",
       "    <tr style=\"text-align: right;\">\n",
       "      <th></th>\n",
       "      <th>Unnamed: 0</th>\n",
       "      <th>ID</th>\n",
       "      <th>Title</th>\n",
       "      <th>Year</th>\n",
       "      <th>Age</th>\n",
       "      <th>IMDb</th>\n",
       "      <th>Rotten Tomatoes</th>\n",
       "      <th>Netflix</th>\n",
       "      <th>Hulu</th>\n",
       "      <th>Prime Video</th>\n",
       "      <th>Disney+</th>\n",
       "      <th>Type</th>\n",
       "      <th>Directors</th>\n",
       "      <th>Genres</th>\n",
       "      <th>Country</th>\n",
       "      <th>Language</th>\n",
       "      <th>Runtime</th>\n",
       "    </tr>\n",
       "  </thead>\n",
       "  <tbody>\n",
       "    <tr>\n",
       "      <th>0</th>\n",
       "      <td>0</td>\n",
       "      <td>1</td>\n",
       "      <td>Inception</td>\n",
       "      <td>2010</td>\n",
       "      <td>13+</td>\n",
       "      <td>8.8</td>\n",
       "      <td>87%</td>\n",
       "      <td>1</td>\n",
       "      <td>0</td>\n",
       "      <td>0</td>\n",
       "      <td>0</td>\n",
       "      <td>0</td>\n",
       "      <td>Christopher Nolan</td>\n",
       "      <td>Action,Adventure,Sci-Fi,Thriller</td>\n",
       "      <td>United States,United Kingdom</td>\n",
       "      <td>English,Japanese,French</td>\n",
       "      <td>148.0</td>\n",
       "    </tr>\n",
       "    <tr>\n",
       "      <th>1</th>\n",
       "      <td>1</td>\n",
       "      <td>2</td>\n",
       "      <td>The Matrix</td>\n",
       "      <td>1999</td>\n",
       "      <td>18+</td>\n",
       "      <td>8.7</td>\n",
       "      <td>87%</td>\n",
       "      <td>1</td>\n",
       "      <td>0</td>\n",
       "      <td>0</td>\n",
       "      <td>0</td>\n",
       "      <td>0</td>\n",
       "      <td>Lana Wachowski,Lilly Wachowski</td>\n",
       "      <td>Action,Sci-Fi</td>\n",
       "      <td>United States</td>\n",
       "      <td>English</td>\n",
       "      <td>136.0</td>\n",
       "    </tr>\n",
       "    <tr>\n",
       "      <th>2</th>\n",
       "      <td>2</td>\n",
       "      <td>3</td>\n",
       "      <td>Avengers: Infinity War</td>\n",
       "      <td>2018</td>\n",
       "      <td>13+</td>\n",
       "      <td>8.5</td>\n",
       "      <td>84%</td>\n",
       "      <td>1</td>\n",
       "      <td>0</td>\n",
       "      <td>0</td>\n",
       "      <td>0</td>\n",
       "      <td>0</td>\n",
       "      <td>Anthony Russo,Joe Russo</td>\n",
       "      <td>Action,Adventure,Sci-Fi</td>\n",
       "      <td>United States</td>\n",
       "      <td>English</td>\n",
       "      <td>149.0</td>\n",
       "    </tr>\n",
       "    <tr>\n",
       "      <th>3</th>\n",
       "      <td>3</td>\n",
       "      <td>4</td>\n",
       "      <td>Back to the Future</td>\n",
       "      <td>1985</td>\n",
       "      <td>7+</td>\n",
       "      <td>8.5</td>\n",
       "      <td>96%</td>\n",
       "      <td>1</td>\n",
       "      <td>0</td>\n",
       "      <td>0</td>\n",
       "      <td>0</td>\n",
       "      <td>0</td>\n",
       "      <td>Robert Zemeckis</td>\n",
       "      <td>Adventure,Comedy,Sci-Fi</td>\n",
       "      <td>United States</td>\n",
       "      <td>English</td>\n",
       "      <td>116.0</td>\n",
       "    </tr>\n",
       "    <tr>\n",
       "      <th>4</th>\n",
       "      <td>4</td>\n",
       "      <td>5</td>\n",
       "      <td>The Good, the Bad and the Ugly</td>\n",
       "      <td>1966</td>\n",
       "      <td>18+</td>\n",
       "      <td>8.8</td>\n",
       "      <td>97%</td>\n",
       "      <td>1</td>\n",
       "      <td>0</td>\n",
       "      <td>1</td>\n",
       "      <td>0</td>\n",
       "      <td>0</td>\n",
       "      <td>Sergio Leone</td>\n",
       "      <td>Western</td>\n",
       "      <td>Italy,Spain,West Germany</td>\n",
       "      <td>Italian</td>\n",
       "      <td>161.0</td>\n",
       "    </tr>\n",
       "  </tbody>\n",
       "</table>\n",
       "</div>"
      ],
      "text/plain": [
       "   Unnamed: 0  ID                           Title  Year  Age  IMDb  \\\n",
       "0           0   1                       Inception  2010  13+   8.8   \n",
       "1           1   2                      The Matrix  1999  18+   8.7   \n",
       "2           2   3          Avengers: Infinity War  2018  13+   8.5   \n",
       "3           3   4              Back to the Future  1985   7+   8.5   \n",
       "4           4   5  The Good, the Bad and the Ugly  1966  18+   8.8   \n",
       "\n",
       "  Rotten Tomatoes  Netflix  Hulu  Prime Video  Disney+  Type  \\\n",
       "0             87%        1     0            0        0     0   \n",
       "1             87%        1     0            0        0     0   \n",
       "2             84%        1     0            0        0     0   \n",
       "3             96%        1     0            0        0     0   \n",
       "4             97%        1     0            1        0     0   \n",
       "\n",
       "                        Directors                            Genres  \\\n",
       "0               Christopher Nolan  Action,Adventure,Sci-Fi,Thriller   \n",
       "1  Lana Wachowski,Lilly Wachowski                     Action,Sci-Fi   \n",
       "2         Anthony Russo,Joe Russo           Action,Adventure,Sci-Fi   \n",
       "3                 Robert Zemeckis           Adventure,Comedy,Sci-Fi   \n",
       "4                    Sergio Leone                           Western   \n",
       "\n",
       "                        Country                 Language  Runtime  \n",
       "0  United States,United Kingdom  English,Japanese,French    148.0  \n",
       "1                 United States                  English    136.0  \n",
       "2                 United States                  English    149.0  \n",
       "3                 United States                  English    116.0  \n",
       "4      Italy,Spain,West Germany                  Italian    161.0  "
      ]
     },
     "execution_count": 34,
     "metadata": {},
     "output_type": "execute_result"
    }
   ],
   "source": [
    "platform_avail.head()"
   ]
  },
  {
   "cell_type": "code",
   "execution_count": 33,
   "metadata": {},
   "outputs": [
    {
     "data": {
      "text/html": [
       "<div>\n",
       "<style scoped>\n",
       "    .dataframe tbody tr th:only-of-type {\n",
       "        vertical-align: middle;\n",
       "    }\n",
       "\n",
       "    .dataframe tbody tr th {\n",
       "        vertical-align: top;\n",
       "    }\n",
       "\n",
       "    .dataframe thead th {\n",
       "        text-align: right;\n",
       "    }\n",
       "</style>\n",
       "<table border=\"1\" class=\"dataframe\">\n",
       "  <thead>\n",
       "    <tr style=\"text-align: right;\">\n",
       "      <th></th>\n",
       "      <th>budget</th>\n",
       "      <th>company</th>\n",
       "      <th>country</th>\n",
       "      <th>director</th>\n",
       "      <th>genre</th>\n",
       "      <th>gross</th>\n",
       "      <th>name</th>\n",
       "      <th>rating</th>\n",
       "      <th>released</th>\n",
       "      <th>runtime</th>\n",
       "      <th>score</th>\n",
       "      <th>star</th>\n",
       "      <th>votes</th>\n",
       "      <th>writer</th>\n",
       "      <th>year</th>\n",
       "    </tr>\n",
       "  </thead>\n",
       "  <tbody>\n",
       "    <tr>\n",
       "      <th>0</th>\n",
       "      <td>8000000.0</td>\n",
       "      <td>Columbia Pictures Corporation</td>\n",
       "      <td>USA</td>\n",
       "      <td>Rob Reiner</td>\n",
       "      <td>Adventure</td>\n",
       "      <td>52287414.0</td>\n",
       "      <td>Stand by Me</td>\n",
       "      <td>R</td>\n",
       "      <td>1986-08-22</td>\n",
       "      <td>89</td>\n",
       "      <td>8.1</td>\n",
       "      <td>Wil Wheaton</td>\n",
       "      <td>299174</td>\n",
       "      <td>Stephen King</td>\n",
       "      <td>1986</td>\n",
       "    </tr>\n",
       "    <tr>\n",
       "      <th>1</th>\n",
       "      <td>6000000.0</td>\n",
       "      <td>Paramount Pictures</td>\n",
       "      <td>USA</td>\n",
       "      <td>John Hughes</td>\n",
       "      <td>Comedy</td>\n",
       "      <td>70136369.0</td>\n",
       "      <td>Ferris Bueller's Day Off</td>\n",
       "      <td>PG-13</td>\n",
       "      <td>1986-06-11</td>\n",
       "      <td>103</td>\n",
       "      <td>7.8</td>\n",
       "      <td>Matthew Broderick</td>\n",
       "      <td>264740</td>\n",
       "      <td>John Hughes</td>\n",
       "      <td>1986</td>\n",
       "    </tr>\n",
       "    <tr>\n",
       "      <th>2</th>\n",
       "      <td>15000000.0</td>\n",
       "      <td>Paramount Pictures</td>\n",
       "      <td>USA</td>\n",
       "      <td>Tony Scott</td>\n",
       "      <td>Action</td>\n",
       "      <td>179800601.0</td>\n",
       "      <td>Top Gun</td>\n",
       "      <td>PG</td>\n",
       "      <td>1986-05-16</td>\n",
       "      <td>110</td>\n",
       "      <td>6.9</td>\n",
       "      <td>Tom Cruise</td>\n",
       "      <td>236909</td>\n",
       "      <td>Jim Cash</td>\n",
       "      <td>1986</td>\n",
       "    </tr>\n",
       "    <tr>\n",
       "      <th>3</th>\n",
       "      <td>18500000.0</td>\n",
       "      <td>Twentieth Century Fox Film Corporation</td>\n",
       "      <td>USA</td>\n",
       "      <td>James Cameron</td>\n",
       "      <td>Action</td>\n",
       "      <td>85160248.0</td>\n",
       "      <td>Aliens</td>\n",
       "      <td>R</td>\n",
       "      <td>1986-07-18</td>\n",
       "      <td>137</td>\n",
       "      <td>8.4</td>\n",
       "      <td>Sigourney Weaver</td>\n",
       "      <td>540152</td>\n",
       "      <td>James Cameron</td>\n",
       "      <td>1986</td>\n",
       "    </tr>\n",
       "    <tr>\n",
       "      <th>4</th>\n",
       "      <td>9000000.0</td>\n",
       "      <td>Walt Disney Pictures</td>\n",
       "      <td>USA</td>\n",
       "      <td>Randal Kleiser</td>\n",
       "      <td>Adventure</td>\n",
       "      <td>18564613.0</td>\n",
       "      <td>Flight of the Navigator</td>\n",
       "      <td>PG</td>\n",
       "      <td>1986-08-01</td>\n",
       "      <td>90</td>\n",
       "      <td>6.9</td>\n",
       "      <td>Joey Cramer</td>\n",
       "      <td>36636</td>\n",
       "      <td>Mark H. Baker</td>\n",
       "      <td>1986</td>\n",
       "    </tr>\n",
       "  </tbody>\n",
       "</table>\n",
       "</div>"
      ],
      "text/plain": [
       "       budget                                 company country        director  \\\n",
       "0   8000000.0           Columbia Pictures Corporation     USA      Rob Reiner   \n",
       "1   6000000.0                      Paramount Pictures     USA     John Hughes   \n",
       "2  15000000.0                      Paramount Pictures     USA      Tony Scott   \n",
       "3  18500000.0  Twentieth Century Fox Film Corporation     USA   James Cameron   \n",
       "4   9000000.0                    Walt Disney Pictures     USA  Randal Kleiser   \n",
       "\n",
       "       genre        gross                      name rating    released  \\\n",
       "0  Adventure   52287414.0               Stand by Me      R  1986-08-22   \n",
       "1     Comedy   70136369.0  Ferris Bueller's Day Off  PG-13  1986-06-11   \n",
       "2     Action  179800601.0                   Top Gun     PG  1986-05-16   \n",
       "3     Action   85160248.0                    Aliens      R  1986-07-18   \n",
       "4  Adventure   18564613.0   Flight of the Navigator     PG  1986-08-01   \n",
       "\n",
       "   runtime  score               star   votes         writer  year  \n",
       "0       89    8.1        Wil Wheaton  299174   Stephen King  1986  \n",
       "1      103    7.8  Matthew Broderick  264740    John Hughes  1986  \n",
       "2      110    6.9         Tom Cruise  236909       Jim Cash  1986  \n",
       "3      137    8.4   Sigourney Weaver  540152  James Cameron  1986  \n",
       "4       90    6.9        Joey Cramer   36636  Mark H. Baker  1986  "
      ]
     },
     "execution_count": 33,
     "metadata": {},
     "output_type": "execute_result"
    }
   ],
   "source": [
    "movies.head()"
   ]
  },
  {
   "cell_type": "code",
   "execution_count": null,
   "metadata": {},
   "outputs": [],
   "source": []
  }
 ],
 "metadata": {
  "kernelspec": {
   "display_name": "Python 3",
   "language": "python",
   "name": "python3"
  },
  "language_info": {
   "codemirror_mode": {
    "name": "ipython",
    "version": 3
   },
   "file_extension": ".py",
   "mimetype": "text/x-python",
   "name": "python",
   "nbconvert_exporter": "python",
   "pygments_lexer": "ipython3",
   "version": "3.8.5"
  }
 },
 "nbformat": 4,
 "nbformat_minor": 4
}
